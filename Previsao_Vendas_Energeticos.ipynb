{
 "cells": [
  {
   "cell_type": "code",
   "execution_count": null,
   "id": "63200379",
   "metadata": {},
   "outputs": [],
   "source": [
    "\n",
    "import pandas as pd\n",
    "import seaborn as sns\n",
    "import matplotlib.pyplot as plt\n",
    "from sklearn.model_selection import train_test_split\n",
    "from sklearn.linear_model import LinearRegression\n",
    "from sklearn.preprocessing import OneHotEncoder\n",
    "from sklearn.metrics import r2_score, mean_absolute_error\n"
   ]
  },
  {
   "cell_type": "code",
   "execution_count": null,
   "id": "ca8bf547",
   "metadata": {},
   "outputs": [],
   "source": [
    "\n",
    "# Carregar o CSV\n",
    "df = pd.read_csv(\"vendas_energeticos.csv\")\n",
    "df.head()\n"
   ]
  },
  {
   "cell_type": "code",
   "execution_count": null,
   "id": "278ce2e1",
   "metadata": {},
   "outputs": [],
   "source": [
    "\n",
    "# Visualização básica\n",
    "sns.scatterplot(data=df, x=\"hora_dia\", y=\"venda_energetico\", hue=\"dia_semana\")\n",
    "plt.title(\"Vendas de Energéticos por Hora e Dia da Semana\")\n",
    "plt.show()\n"
   ]
  },
  {
   "cell_type": "code",
   "execution_count": null,
   "id": "7a1068a9",
   "metadata": {},
   "outputs": [],
   "source": [
    "\n",
    "# One-hot encoding para o dia da semana\n",
    "encoder = OneHotEncoder(sparse=False)\n",
    "dias_encoded = encoder.fit_transform(df[['dia_semana']])\n",
    "dias_df = pd.DataFrame(dias_encoded, columns=encoder.get_feature_names_out(['dia_semana']))\n",
    "\n",
    "# Unir os dados transformados ao DataFrame original\n",
    "df_modelo = pd.concat([df[['hora_dia', 'venda_energetico']], dias_df], axis=1)\n",
    "df_modelo.head()\n"
   ]
  },
  {
   "cell_type": "code",
   "execution_count": null,
   "id": "54d120f3",
   "metadata": {},
   "outputs": [],
   "source": [
    "\n",
    "# Separar variáveis independentes e alvo\n",
    "X = df_modelo.drop(\"venda_energetico\", axis=1)\n",
    "y = df_modelo[\"venda_energetico\"]\n",
    "\n",
    "# Dividir em treino e teste\n",
    "X_train, X_test, y_train, y_test = train_test_split(X, y, test_size=0.2, random_state=42)\n"
   ]
  },
  {
   "cell_type": "code",
   "execution_count": null,
   "id": "d3131e07",
   "metadata": {},
   "outputs": [],
   "source": [
    "\n",
    "# Treinar o modelo\n",
    "modelo = LinearRegression()\n",
    "modelo.fit(X_train, y_train)\n"
   ]
  },
  {
   "cell_type": "code",
   "execution_count": null,
   "id": "4c0134e5",
   "metadata": {},
   "outputs": [],
   "source": [
    "\n",
    "# Previsões\n",
    "y_pred = modelo.predict(X_test)\n",
    "\n",
    "# Avaliação\n",
    "print(\"R²:\", r2_score(y_test, y_pred))\n",
    "print(\"MAE:\", mean_absolute_error(y_test, y_pred))\n"
   ]
  },
  {
   "cell_type": "code",
   "execution_count": null,
   "id": "5ac78fc8",
   "metadata": {},
   "outputs": [],
   "source": [
    "\n",
    "# Exemplo de predição\n",
    "novo_exemplo = pd.DataFrame([[14] + [0,0,0,0,0,1,0]], columns=X.columns)  # Ex: sábado, 14h\n",
    "modelo.predict(novo_exemplo)\n"
   ]
  }
 ],
 "metadata": {},
 "nbformat": 4,
 "nbformat_minor": 5
}
